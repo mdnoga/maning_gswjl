{
 "cells": [
  {
   "cell_type": "markdown",
   "id": "a55aca8d-4131-4f29-97aa-15ae96c7cf18",
   "metadata": {},
   "source": [
    "# Hello, World!\n",
    "\n",
    "A function that takes no arguments and prints \"Hello, World!\""
   ]
  },
  {
   "cell_type": "code",
   "execution_count": null,
   "id": "dab5a5bd-9453-40f9-8f6c-339fced2510e",
   "metadata": {},
   "outputs": [],
   "source": [
    "def hello_world():\n",
    "    print(\"Hello, World!\")\n",
    "\n",
    "hello_world()"
   ]
  }
 ],
 "metadata": {
  "kernelspec": {
   "display_name": "Python 3 (ipykernel)",
   "language": "python",
   "name": "python3"
  },
  "language_info": {
   "codemirror_mode": {
    "name": "ipython",
    "version": 3
   },
   "file_extension": ".py",
   "mimetype": "text/x-python",
   "name": "python",
   "nbconvert_exporter": "python",
   "pygments_lexer": "ipython3",
   "version": "3.9.12"
  }
 },
 "nbformat": 4,
 "nbformat_minor": 5
}
